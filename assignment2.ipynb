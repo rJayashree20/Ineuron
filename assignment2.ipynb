{
  "nbformat": 4,
  "nbformat_minor": 0,
  "metadata": {
    "colab": {
      "name": "Untitled0.ipynb",
      "provenance": [],
      "collapsed_sections": []
    },
    "kernelspec": {
      "name": "python3",
      "display_name": "Python 3"
    }
  },
  "cells": [
    {
      "cell_type": "markdown",
      "metadata": {
        "id": "NIn8r3th7bPS"
      },
      "source": [
        "1. Create the below pattern using nested for loop in Python."
      ]
    },
    {
      "cell_type": "code",
      "metadata": {
        "colab": {
          "base_uri": "https://localhost:8080/"
        },
        "id": "-U1eeCHW7hk8",
        "outputId": "e19d6f25-21a4-46c3-eb32-3d6bdc74719f"
      },
      "source": [
        "n=5\r\n",
        "for i in range(n):\r\n",
        "    for j in range(i+1):\r\n",
        "        print('*', end='\\t')\r\n",
        "    print('')\r\n",
        "\r\n",
        "for i in range(n,0,-1):\r\n",
        "    for j in range(i-1):\r\n",
        "        print('*', end='\\t')\r\n",
        "    print('')"
      ],
      "execution_count": 3,
      "outputs": [
        {
          "output_type": "stream",
          "text": [
            "*\t\n",
            "*\t*\t\n",
            "*\t*\t*\t\n",
            "*\t*\t*\t*\t\n",
            "*\t*\t*\t*\t*\t\n",
            "*\t*\t*\t*\t\n",
            "*\t*\t*\t\n",
            "*\t*\t\n",
            "*\t\n",
            "\n"
          ],
          "name": "stdout"
        }
      ]
    },
    {
      "cell_type": "markdown",
      "metadata": {
        "id": "C_nr4a5eI_vO"
      },
      "source": [
        "2. Write a Python program to reverse a word after accepting the input from the user.\r\n",
        "Sample Output:\r\n",
        "Input word: ineuron\r\n",
        "Output: norueni"
      ]
    },
    {
      "cell_type": "code",
      "metadata": {
        "colab": {
          "base_uri": "https://localhost:8080/"
        },
        "id": "UM_wVRLP7pbC",
        "outputId": "7a0a84ee-3493-412a-9153-ab4ae0f73144"
      },
      "source": [
        "a = input('Enter a word: ')\r\n",
        "for i in range(len(a)-1,-1,-1):\r\n",
        "    print(a[i],end = '\\t')"
      ],
      "execution_count": 4,
      "outputs": [
        {
          "output_type": "stream",
          "text": [
            "Enter a word: ineuron\n",
            "n\to\tr\tu\te\tn\ti\t"
          ],
          "name": "stdout"
        }
      ]
    },
    {
      "cell_type": "code",
      "metadata": {
        "id": "O5npbXDCL_2F"
      },
      "source": [
        ""
      ],
      "execution_count": 4,
      "outputs": []
    }
  ]
}